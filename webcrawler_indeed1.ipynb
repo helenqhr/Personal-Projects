{
 "cells": [
  {
   "cell_type": "code",
   "execution_count": 1,
   "id": "42e5c8c4",
   "metadata": {},
   "outputs": [],
   "source": [
    "from selenium.webdriver.chrome.service import Service"
   ]
  },
  {
   "cell_type": "code",
   "execution_count": 2,
   "id": "e98d4688",
   "metadata": {},
   "outputs": [],
   "source": [
    "service = Service('C:/bin\\chromedriver')\n",
    "service.start()"
   ]
  },
  {
   "cell_type": "code",
   "execution_count": 3,
   "id": "9e0b051b",
   "metadata": {},
   "outputs": [],
   "source": [
    "from selenium import webdriver"
   ]
  },
  {
   "cell_type": "code",
   "execution_count": 4,
   "id": "829f3c4c",
   "metadata": {},
   "outputs": [],
   "source": [
    "driver = webdriver.Remote(service.service_url)"
   ]
  },
  {
   "cell_type": "code",
   "execution_count": 5,
   "id": "34797284",
   "metadata": {},
   "outputs": [],
   "source": [
    "driver.get('https://www.indeed.com/')"
   ]
  },
  {
   "cell_type": "code",
   "execution_count": 6,
   "id": "e4b671f9",
   "metadata": {},
   "outputs": [],
   "source": [
    "elem = driver.find_element('id','text-input-what')"
   ]
  },
  {
   "cell_type": "code",
   "execution_count": 7,
   "id": "754d99cd",
   "metadata": {},
   "outputs": [],
   "source": [
    "elem.clear()"
   ]
  },
  {
   "cell_type": "code",
   "execution_count": 8,
   "id": "ecccd8fd",
   "metadata": {},
   "outputs": [],
   "source": [
    "elem.send_keys('Data Scientist')"
   ]
  },
  {
   "cell_type": "code",
   "execution_count": 9,
   "id": "b9a85f86",
   "metadata": {},
   "outputs": [],
   "source": [
    "from selenium.webdriver.common.keys import Keys"
   ]
  },
  {
   "cell_type": "code",
   "execution_count": 10,
   "id": "59670057",
   "metadata": {},
   "outputs": [],
   "source": [
    "elem.send_keys(Keys.RETURN)"
   ]
  },
  {
   "cell_type": "code",
   "execution_count": 11,
   "id": "a1743416",
   "metadata": {},
   "outputs": [
    {
     "name": "stdout",
     "output_type": "stream",
     "text": [
      "https://www.indeed.com/jobs?q=Data%20Scientist&l=Sugar%20Land%2C%20TX&from=searchOnHP\n"
     ]
    }
   ],
   "source": [
    "print(driver.current_url)"
   ]
  },
  {
   "cell_type": "code",
   "execution_count": 12,
   "id": "e29d1d80",
   "metadata": {},
   "outputs": [],
   "source": [
    "import requests\n",
    "import bs4"
   ]
  },
  {
   "cell_type": "code",
   "execution_count": 13,
   "id": "cf0a2645",
   "metadata": {},
   "outputs": [
    {
     "data": {
      "text/plain": [
       "'<!DOCTYPE html>\\n<html lang=\"en-US\">\\n   <head>\\n      <title>Access denied</title>\\n      <meta http-equiv=\"X-UA-Compatible\" content=\"IE=Edge\" />\\n      <meta name=\"robots\" content=\"noindex, nofollow\" />\\n      <meta name=\"viewport\" content=\"width=device-width,initial-scale=1\" />\\n      <link rel=\"stylesheet\" href=\"/cdn-cgi/styles/errors.css\" media=\"screen\" />\\n      <script>\\n(function(){if(document.addEventListener&&window.XMLHttpRequest&&JSON&&JSON.stringify){var e=function(a){var c=document.getElementById(\"error-feedback-survey\"),d=document.getElementById(\"error-feedback-success\"),b=new XMLHttpRequest;a={event:\"feedback clicked\",properties:{errorCode:1020,helpful:a,version:5}};b.open(\"POST\",\"https://sparrow.cloudflare.com/api/v1/event\");b.setRequestHeader(\"Content-Type\",\"application/json\");b.setRequestHeader(\"Sparrow-Source-Key\",\"c771f0e4b54944bebf4261d44bd79a1e\");\\nb.send(JSON.stringify(a));c.classList.add(\"feedback-hidden\");d.classList.remove(\"feedback-hidden\")};document.addEventListener(\"DOMContentLoaded\",function(){var a=document.getElementById(\"error-feedback\"),c=document.getElementById(\"feedback-button-yes\"),d=document.getElementById(\"feedback-button-no\");\"classList\"in a&&(a.classList.remove(\"feedback-hidden\"),c.addEventListener(\"click\",function(){e(!0)}),d.addEventListener(\"click\",function(){e(!1)}))})}})();\\n</script>\\n\\n      <script>\\n      (function(){function d(c){var b=document.getElementById(\"copy-label\"),a=document.getElementById(\"cf-details-wrapper-expandable\");c.target.checked?a.classList.add(\"expanded\"):(a.classList.remove(\"expanded\"),b.innerText=\"Click to copy\")}if(document.addEventListener){var e=function(){var c=document.getElementById(\"copy-label\");var b=document.getElementById(\"error-details\").textContent;if(navigator.clipboard)navigator.clipboard.writeText(b);else{var a=document.createElement(\"textarea\");a.value=b;a.style.top=\"0\";a.style.left=\"0\";a.style.position=\"fixed\";document.body.appendChild(a);a.focus();a.select();document.execCommand(\"copy\");document.body.removeChild(a)}c.innerText=\"Copied text to clipboard\"};document.addEventListener(\"DOMContentLoaded\",function(){var c=document.getElementById(\"error-details-checkbox\"),b=document.getElementById(\"click-to-copy-btn\");document.getElementById(\"copy-label\").classList.remove(\"hidden\");c.addEventListener(\"change\",d);b.addEventListener(\"click\",e)})}})();\\n      </script>\\n      <script defer src=\"https://performance.radar.cloudflare.com/beacon.js\"></script>\\n   </head>\\n   <body>\\n   <div class=\"cf-main-wrapper\" role=\"main\">\\n      <div class=\"cf-header cf-section\">\\n         <div class=\"cf-error-title\">\\n            <h1>Access denied</h1>\\n            <span class=\"cf-code-label\">Error code <span>1020</span></span>\\n         </div>\\n         <div class=\"cf-error-description\">\\n            <p>You do not have access to www.indeed.com.</p><p>The site owner may have set restrictions that prevent you from accessing the site.</p>\\n         </div>\\n      </div>\\n   </div>\\n\\n   <div class=\"cf-details-wrapper\">\\n      <div class=\"cf-section\" role=\"region\">\\n         <div class=\"cf-expandable\" id=\"cf-details-wrapper-expandable\">\\n            <label for=\"error-details-checkbox\" title=\"Error details\" class=\"cf-expandable-btn\">\\n               <p class=\"cf-dropdown-title\">Error details</p>\\n               <img src=\"data:image/png;base64,iVBORw0KGgoAAAANSUhEUgAAACAAAAAgBAMAAACBVGfHAAAAElBMVEUAAAAwMDAxMTEyMjIwMDAxMTF+89HTAAAABXRSTlMAf2CAMKS61bwAAABTSURBVCjPzcq7DcAgFENR5zMATfo06TNCViAS+6+CeFi6gglw4eLqaPVtaQpXnkApaQT/k0dw70EAUhCA1AnABGACMAGYAEwAkCOAydv+I5xaZhXWbQrD80TkkQAAAABJRU5ErkJggg==\"\\n               class=\"cf-caret-icon\" id=\"caret-icon\" alt=\"Caret icon\" />\\n            </label>\\n\\n            <input id=\"error-details-checkbox\" class=\"hidden\" type=\"checkbox\">\\n\\n            <div class=\"cf-expandable-error-info hidden\">\\n               <p class=\"cf-error-copy-description\">Provide the site owner this information.</p>\\n               <button class=\"cf-click-to-copy-btn\" id=\"click-to-copy-btn\" title=\"Click to copy\" type=\"button\">\\n<div class=\"cf-error-wrapper\" id=\"error-details\"><p class=\"cf-error-details-endpoint\">I got an error when visiting www.indeed.com/jobs?q=Data+Scientist&amp;l=Sugar+Land%2C+TX&amp;from=searchOnHP&amp;vjk=e5d64236cc24a641.</p>\\n\\n<p>Error code: 1020</p>\\n<p>Ray ID: 77a49862fd9a16b4</p>\\n<p>Country: US</p>\\n<p>Data center: iah01</p>\\n<p>IP: 98.198.2.61</p>\\n<p>Timestamp: 2022-12-16 04:14:59 UTC</p>\\n</div>\\n                  <p class=\"cf-copy-label hidden\" id=\"copy-label\">Click to copy</p>\\n               </button>\\n            </div>\\n         </div>\\n      </div>\\n\\n      <div class=\"clearfix cf-footer cf-section\" role=\"contentinfo\">\\n      <div class=\"cf-column\">\\n           <div class=\"feedback-hidden py-8 text-center\" id=\"error-feedback\">\\n    <div id=\"error-feedback-survey\" class=\"footer-line-wrapper\">\\n        Was this page helpful?\\n        <button class=\"border border-solid bg-white cf-button cursor-pointer ml-4 px-4 py-2 rounded\" id=\"feedback-button-yes\" type=\"button\">Yes</button>\\n        <button class=\"border border-solid bg-white cf-button cursor-pointer ml-4 px-4 py-2 rounded\" id=\"feedback-button-no\" type=\"button\">No</button>\\n    </div>\\n    <div class=\"feedback-success feedback-hidden\" id=\"error-feedback-success\">\\n        Thank you for your feedback!\\n    </div>\\n</div>\\n\\n      </div>\\n         <div class=\"cf-column cf-footer-line-wrapper text-center\">\\n            <p>\\n               Performance &amp; security by <a rel=\"noopener noreferrer\" href=\"https://www.cloudflare.com?utm_source=1020_error\" target=\"_blank\">Cloudflare <img class=\"external-link\" title=\"Opens in new tab\" src=\"/cdn-cgi/images/external.png\" alt=\"External link\"></a>\\n            </p>\\n         </div>\\n      </div>\\n   </div>\\n<script defer src=\"https://static.cloudflareinsights.com/beacon.min.js/vaafb692b2aea4879b33c060e79fe94621666317369993\" integrity=\"sha512-0ahDYl866UMhKuYcW078ScMalXqtFJggm7TmlUtp0UlD4eQk0Ixfnm5ykXKvGJNFjLMoortdseTfsRT8oCfgGA==\" data-cf-beacon=\\'{\"rayId\":\"77a49862fd9a16b4\",\"token\":\"47161d92b8b74ef5b23469b91c2535c6\",\"version\":\"2022.11.3\",\"si\":100}\\' crossorigin=\"anonymous\"></script>\\n</body>\\n</html>\\n'"
      ]
     },
     "execution_count": 13,
     "metadata": {},
     "output_type": "execute_result"
    }
   ],
   "source": [
    "res = requests.get(driver.current_url)\n",
    "res.text"
   ]
  },
  {
   "cell_type": "code",
   "execution_count": 14,
   "id": "99bc2a14",
   "metadata": {},
   "outputs": [
    {
     "data": {
      "text/plain": [
       "'<!DOCTYPE html>\\n<html lang=\"en-US\">\\n<head>\\n    <title>Just a moment...</title>\\n    <meta http-equiv=\"Content-Type\" content=\"text/html; charset=UTF-8\">\\n    <meta http-equiv=\"X-UA-Compatible\" content=\"IE=Edge\">\\n    <meta name=\"robots\" content=\"noindex,nofollow\">\\n    <meta name=\"viewport\" content=\"width=device-width,initial-scale=1\">\\n    <link href=\"/cdn-cgi/styles/challenges.css\" rel=\"stylesheet\">\\n    \\n\\n</head>\\n<body class=\"no-js\">\\n    <div class=\"main-wrapper\" role=\"main\">\\n    <div class=\"main-content\">\\n        <h1 class=\"zone-name-title h1\">\\n            <img class=\"heading-favicon\" src=\"/favicon.ico\"\\n                 onerror=\"this.onerror=null;this.parentNode.removeChild(this)\">\\n            www.indeed.com\\n        </h1>\\n        <h2 class=\"h2\" id=\"challenge-running\">\\n            Checking if the site connection is secure\\n        </h2>\\n        <noscript>\\n            <div id=\"challenge-error-title\">\\n                <div class=\"h2\">\\n                    <span class=\"icon-wrapper\">\\n                        <div class=\"heading-icon warning-icon\"></div>\\n                    </span>\\n                    <span id=\"challenge-error-text\">\\n                        Enable JavaScript and cookies to continue\\n                    </span>\\n                </div>\\n            </div>\\n        </noscript>\\n        <div id=\"trk_jschal_js\" style=\"display:none;background-image:url(\\'/cdn-cgi/images/trace/managed/nojs/transparent.gif?ray=77a49863cb5316d1\\')\"></div>\\n        <div id=\"challenge-body-text\" class=\"core-msg spacer\">\\n            www.indeed.com needs to review the security of your connection before proceeding.\\n        </div>\\n        <form id=\"challenge-form\" action=\"/jobs?q=Data+Scientist&amp;l=Sugar+Land%2C+TX&amp;from=searchOnHP&amp;vjk=e5d64236cc24a641&amp;__cf_chl_f_tk=YqbYv0tvWn1U9BfsnPy2fxEZVCjlmQyC7TROn6Ld.Zg-1671164099-0-gaNycGzNB70\" method=\"POST\" enctype=\"application/x-www-form-urlencoded\">\\n            <input type=\"hidden\" name=\"md\" value=\"noa_RLm.GEHeeRDxFlh85iOmCXMWof9nmisLwIVFHS0-1671164099-0-AUk_RBaJ88aSPsss0kK-lL9Hal3M_hyXdjvOyU1AOtbNhFeryeHqEg57cKxS8MhEscq14GTL4fQ73KkvKlgvMQOInvbTmxDxAcQSgG5NKlbVfH1bMZyJoHvqlH6dDI9x4N4awxapcF7FkFSFRcengjmuEQ1xG0U7bkYkPTU0YTGAbKtDJCd-jHczs_6BJnewPM19w8A8UWyXunlYUsronAj0RV-dpMWmwx-zSijEJHUTkc8yXBP7hoPA40bQpQdkmib9SYBASRvgtg06N8GtGHqPprt5cvj7S-5ADIZyQZXF0OYqocl41wpqFA0eGjSM2epTXKY1xrqzXHh_35hleLmJ-StSROBKkEzgcVilSuc4L41YNDpkW6iwBoc8CZFEQXMW2T1laybb_8_xZDuMppomJB8Iymt1FjtTQd6pdPf4uFvgFZOHfXBZYhqEa2O7L1bKrkaq5aLUYZjVuTcj-PDfaLk_6X1oMd0D7ZNSDiKUVVk4fSS-4FetleUcuO9A4Kr2OJoDW5CodfVkaXg89V5VgBYci-SGE5mJ2uEYBUdvMODbAIcqGc3VxO3YorIm7i1tiJ-NqXmrkV0mmNGzvo5ZBOXoxyyNKVgcWoaMefdWPKCAYBTnQBXOmEgFYWg3PJo7D1Ta2U68_pk3BymtZ8CuQBau48Fj4CJ4ycrsVQqmP2q3s-Ikidhrt6vLhRRd01cOTKBkop9uzA_QSp0w_2F45JSnsVdorBkSOKBaPaRJE5zIWLiGGB2gd7vOgofOp1tMYrgZSCv2HGmq1iL1C7QZ89dNZzhMEhmqEEpy7rQQs35Ju4VKV-zoAjmJJbHb-ZlfPMwdA96NgdJnfERdY14\">\\n            <input type=\"hidden\" name=\"r\" value=\"jxjDtdpEwg3OSKKwO6GPQS9csBRlt.v2a.PZqm6B3ug-1671164099-0-AUXzAcKZHo0rFvmJLc/V1ZqO8OiM0RP822GOKCPmYVKxLfoHLPQZ7qP8mF7A2lFaBCIVD4G92+lEYgXYN8BI8Xo00Hoe1jNUPSboF0LftWnn+IFi4BPqgnLW9npeMngrbZHUAL9VlMOP8RCbmos/TrD0I0+yFJXsXH1Yh8fuQHbcGaAhh9sjeVZtuiBmZNcstafiVlWAjQfHq3iEIu+sUjlqo0R7gVFz71HfvJhl7kOwBDMkizwIQH8bkjWpZ0R4N7yFuZWs8YlH401trA1HXGTmLa9505epq4q9rkei0I0+FCOceEADy3ZbL9GBay2i4unSp2vGzRocnWFOENSFIyQfawacSbwhunfhLEKQMq58xbzmBYbgaRPGCgUeR7tD4tdu0ek5XaWlmwlv8fuflYlb0cBT8f9NwOksM4WHFCf67MYUAriKsm7C6iIvaHKPm5vr5PB90sifqLZKEX9fpp0sydnsyvNXEiFmPTGbQJYt+/VPaafwZG50C5OQYwZBhBpskyBZUIMNa5NQikgSxfrn3Im79m1de0yU/lZu17sa6NeXo0eJjHM+DiFZn3ayi/sKXd/LSAJJB8k99wmToBJ9wClXDn5NitCAFSh/iZclx+BAE7++AE35gzqYgGP03vQSA8Ww+o4q80bnGKtM9L1QhuG1hSjO6DU21/kyw0bAmwuWgyN9vcbzyri+CcU2r/LbspAIP3UvKTWb3+9ZnF12Kp0KsqTDmidbdBaTIDHx5D0seJ9IpYLi0eSnFFnIwP5cdTBDATRJJ6m3waOhcJ3lKwlEArBoas3ou5h1TAUf9HQj5kstO7q52/sBeJJpoCn6B+koC7Eqc5TygJN0YWmCEKQlrcaNJU2yYvkMqt2e31Ey+baM0V+qdFtuWuDK/0zEuf7xTvVsUoKu+gwUMU9pQFERR2puLDvAU0qdwUe8eF4cbc+BdDHEFulJe68+a4Qv+H+Ph/BdqzmzCPavn6VhE5s94J7LFYWRAllxKfVCgi3apPvZDiLD7KvGY5I2ng+28NzStRKeUjsTU+qdAeGPKJ4moRroxr4/KgA/ppMBUmfghC7duooAyoG9PwYtnzj2UzAUp5jVHeaIl7lgtbYEaP0lQA0juCxYBCQvb2uBOri0CZPnqTL6c07bYs9O6wEvJskhcJMVAlooxb74kMUvMkyCC1v04H2RLVA+yHr+i/V4V7QK3DncPYIRVjzSEJSrgoMKgrjyQO0AK4Z73mS/HDLVmuZ4KTis9sID3kDBQgtVzPspm/aUymfX+Hy5i7SgSmj9uk6LugaBhMRKTeMZx02svDJzbPT0D2VQrPanNrBZFapKJF9tSwy0IZ6qJJfPM7th5082t94tr9oqEdEJpcGmD/JzT7twCSUysdrAjtGaxUzypuUERDVk3C74QpeWoxquNxkJSNeyHo013phYyGNt4iB66FbFXreCikAyEOqUk+ZPtSNuMKsqVRhCMuh5zJUlmn6CWKtZ2bXNHV7/r4fL0ICrn0NdH1Yf7PRGDlBS3jQGlFlPA3dp83M1GXsJRpUwd6xq9hCQ1AMbDc0HUXVjH7C5YXRmb2y9XJ4MqMQFlzHAuc1BaltzwlFXmjSPqLvOx94WGBmNXAU614zhbVaSBs/rzntss3DhWhIivctuTwPnWcug4/NwAvTduIH5kgkPBKHOv65c9LGxAXjEcI0LPaGCXe+Gkwy7W1Tboo8TKoiDJIBOSONkwU55j5DElH3EAwuTO3JG+qiQeZaeBWoJlwjgc3eQ7jBgi6AOtuoIDWtGgymeQJBt/8BG9VIQmBR+YVQNhFdLzmNEW2dGilSVZRwuEcAxWYO903eoDFGf8NUi/cYhSdhI989BkGOrD35I6/hsv00NefT3ZJfYeO/RoADVbqjKVdJXwVMdvpRBwCTLDG/0GlFNy3iPng==\">\\n        </form>\\n    </div>\\n</div>\\n<script>\\n    (function(){\\n        window._cf_chl_opt={\\n            cvId: \\'2\\',\\n            cType: \\'managed\\',\\n            cNounce: \\'44\\',\\n            cRay: \\'77a49863cb5316d1\\',\\n            cHash: \\'18c8e5df7a1700f\\',\\n            cUPMDTk: \"\\\\/jobs?q=Data+Scientist&l=Sugar+Land%2C+TX&from=searchOnHP&vjk=e5d64236cc24a641&__cf_chl_tk=YqbYv0tvWn1U9BfsnPy2fxEZVCjlmQyC7TROn6Ld.Zg-1671164099-0-gaNycGzNB70\",\\n            cFPWv: \\'g\\',\\n            cTTimeMs: \\'1000\\',\\n            cTplV: 4,\\n            cTplB: \\'cf\\',\\n            cRq: {\\n                ru: \\'aHR0cHM6Ly93d3cuaW5kZWVkLmNvbS9qb2JzP3E9RGF0YStTY2llbnRpc3QmbD1TdWdhcitMYW5kJTJDK1RYJmZyb209c2VhcmNoT25IUCZ2ams9ZTVkNjQyMzZjYzI0YTY0MQ==\\',\\n                ra: \\'TW96aWxsYS81LjAgKFdpbmRvd3MgTlQgMTAuMDsgV09XNjQpIEFwcGxlV2ViS2l0LzUzNy4zNiAoS0hUTUwsIGxpa2UgR2Vja28pIENocm9tZS83OS4wLjM5NDUuODggU2FmYXJpLzUzNy4zNw==\\',\\n                rm: \\'R0VU\\',\\n                d: \\'2jGaYZ6MA6C16LT70ffcBN5FCb/BunntRWcYAWfWElyKNRLKch54dauWlZIShsNxG6A79xd8tjeumF5LkJ+TNVJ/i+gYEIUuCt3wHLAFrL7sPmNRu6jhJQHuMdrbQI5yix0AQf8kVFPymEYVDlPzHzt0B17QDRqyK9flA1OCPVYgT2CidY7RKcfaGkZAt8tapu0wyiXoxbsaLB9DQPHYi6ioCQ3/zwFhsQWLD0rE5PtIy4sq8ce6rFTGA/po/bbspNaDVLfwtuGvyXzhFwvUjfFZKBWilftInsNByxFn6L3noyWb8KLvdI0rDYcnQxCeBxoLXBOKubLzM49ulNwaYU7FuPuRGCeOycecAuPubuM1PwI7XI/jCaA40FaAs3/EdOhzCjtWquBgjlvchiYG4Mmli/JYzY8YfXvOGWrqASgPbK+407YkwfdY9AQMiuwqcnIxlCWTEGkEp2DQaS1TZnfj5kR0JGX+Q9+jjkCKh7q/EXlegwhD4DT3wJcytyxkxaMM9OISzuES974T+dpg27K5WkNA+0R1WM7gRTRZCVvtHCYuH8F5BTLGcDR641BonG67yWN4NyU1GkvPWXnhJkkuOsUcGBfN8FcZu5f2AkOemv1q6HjGgBTUD1XMfbV0PE3WBHhNGGkrimxYORlINg==\\',\\n                t: \\'MTY3MTE2NDA5OS4xNjkwMDA=\\',\\n                m: \\'UCGR0EnNaHcE8Om3hmMveV62XG7ibOT1VdxfHazcz2c=\\',\\n                i1: \\'n5TccFfhOqiK6QCBolnTJg==\\',\\n                i2: \\'sGe0ph32yWN4n2C9QaZupw==\\',\\n                zh: \\'2kfjrLYfAVNem19Lin3oP+VKo7ladb55se1eVtiLLnQ=\\',\\n                uh: \\'AlRKkTUE2mFuIQgT+YQwCvonfWlPez0DX7k/TRzfU3A=\\',\\n                hh: \\'kscNdiThTx/CcYpUiV7EP4v/VgPxIHsoBIQQ6Rdzvmg=\\',\\n            }\\n        };\\n        var trkjs = document.createElement(\\'img\\');\\n        trkjs.setAttribute(\\'src\\', \\'/cdn-cgi/images/trace/managed/js/transparent.gif?ray=77a49863cb5316d1\\');\\n        trkjs.setAttribute(\\'style\\', \\'display: none\\');\\n        document.body.appendChild(trkjs);\\n        var cpo = document.createElement(\\'script\\');\\n        cpo.src = \\'/cdn-cgi/challenge-platform/h/g/orchestrate/managed/v1?ray=77a49863cb5316d1\\';\\n        window._cf_chl_opt.cOgUHash = location.hash === \\'\\' && location.href.indexOf(\\'#\\') !== -1 ? \\'#\\' : location.hash;\\n        window._cf_chl_opt.cOgUQuery = location.search === \\'\\' && location.href.slice(0, -window._cf_chl_opt.cOgUHash.length).indexOf(\\'?\\') !== -1 ? \\'?\\' : location.search;\\n        if (window.history && window.history.replaceState) {\\n            var ogU = location.pathname + window._cf_chl_opt.cOgUQuery + window._cf_chl_opt.cOgUHash;\\n            history.replaceState(null, null, \"\\\\/jobs?q=Data+Scientist&l=Sugar+Land%2C+TX&from=searchOnHP&vjk=e5d64236cc24a641&__cf_chl_rt_tk=YqbYv0tvWn1U9BfsnPy2fxEZVCjlmQyC7TROn6Ld.Zg-1671164099-0-gaNycGzNB70\" + window._cf_chl_opt.cOgUHash);\\n            cpo.onload = function() {\\n                history.replaceState(null, null, ogU);\\n            };\\n        }\\n        document.getElementsByTagName(\\'head\\')[0].appendChild(cpo);\\n    }());\\n</script>\\n\\n\\n    <div class=\"footer\" role=\"contentinfo\">\\n        <div class=\"footer-inner\">\\n            <div class=\"clearfix diagnostic-wrapper\">\\n                <div class=\"ray-id\">Ray ID: <code>77a49863cb5316d1</code></div>\\n            </div>\\n            <div class=\"text-center\">Performance &amp; security by <a rel=\"noopener noreferrer\" href=\"https://www.cloudflare.com?utm_source=challenge&utm_campaign=m\" target=\"_blank\">Cloudflare</a></div>\\n        </div>\\n    </div>\\n</body>\\n</html>\\n'"
      ]
     },
     "execution_count": 14,
     "metadata": {},
     "output_type": "execute_result"
    }
   ],
   "source": [
    "user_agent = \"Mozilla/5.0 (Windows NT 10.0; WOW64) AppleWebKit/537.36 (KHTML, like Gecko) Chrome/79.0.3945.88 Safari/537.37\"\n",
    "res2 = requests.get(driver.current_url, headers={'User-Agent': user_agent})\n",
    "res2.text"
   ]
  },
  {
   "cell_type": "code",
   "execution_count": 15,
   "id": "2f85ebae",
   "metadata": {},
   "outputs": [
    {
     "name": "stdout",
     "output_type": "stream",
     "text": [
      "<!DOCTYPE html>\n",
      "<html lang=\"en-US\">\n",
      " <head>\n",
      "  <title>\n",
      "   Just a moment...\n",
      "  </title>\n",
      "  <meta content=\"text/html; charset=utf-8\" http-equiv=\"Content-Type\"/>\n",
      "  <meta content=\"IE=Edge\" http-equiv=\"X-UA-Compatible\"/>\n",
      "  <meta content=\"noindex,nofollow\" name=\"robots\"/>\n",
      "  <meta content=\"width=device-width,initial-scale=1\" name=\"viewport\"/>\n",
      "  <link href=\"/cdn-cgi/styles/challenges.css\" rel=\"stylesheet\"/>\n",
      " </head>\n",
      " <body class=\"no-js\">\n",
      "  <div class=\"main-wrapper\" role=\"main\">\n",
      "   <div class=\"main-content\">\n",
      "    <h1 class=\"zone-name-title h1\">\n",
      "     <img class=\"heading-favicon\" onerror=\"this.onerror=null;this.parentNode.removeChild(this)\" src=\"/favicon.ico\"/>\n",
      "     www.indeed.com\n",
      "    </h1>\n",
      "    <h2 class=\"h2\" id=\"challenge-running\">\n",
      "     Checking if the site connection is secure\n",
      "    </h2>\n",
      "    <noscript>\n",
      "     <div id=\"challenge-error-title\">\n",
      "      <div class=\"h2\">\n",
      "       <span class=\"icon-wrapper\">\n",
      "        <div class=\"heading-icon warning-icon\">\n",
      "        </div>\n",
      "       </span>\n",
      "       <span id=\"challenge-error-text\">\n",
      "        Enable JavaScript and cookies to continue\n",
      "       </span>\n",
      "      </div>\n",
      "     </div>\n",
      "    </noscript>\n",
      "    <div id=\"trk_jschal_js\" style=\"display:none;background-image:url('/cdn-cgi/images/trace/managed/nojs/transparent.gif?ray=77a49863cb5316d1')\">\n",
      "    </div>\n",
      "    <div class=\"core-msg spacer\" id=\"challenge-body-text\">\n",
      "     www.indeed.com needs to review the security of your connection before proceeding.\n",
      "    </div>\n",
      "    <form action=\"/jobs?q=Data+Scientist&amp;l=Sugar+Land%2C+TX&amp;from=searchOnHP&amp;vjk=e5d64236cc24a641&amp;__cf_chl_f_tk=YqbYv0tvWn1U9BfsnPy2fxEZVCjlmQyC7TROn6Ld.Zg-1671164099-0-gaNycGzNB70\" enctype=\"application/x-www-form-urlencoded\" id=\"challenge-form\" method=\"POST\">\n",
      "     <input name=\"md\" type=\"hidden\" value=\"noa_RLm.GEHeeRDxFlh85iOmCXMWof9nmisLwIVFHS0-1671164099-0-AUk_RBaJ88aSPsss0kK-lL9Hal3M_hyXdjvOyU1AOtbNhFeryeHqEg57cKxS8MhEscq14GTL4fQ73KkvKlgvMQOInvbTmxDxAcQSgG5NKlbVfH1bMZyJoHvqlH6dDI9x4N4awxapcF7FkFSFRcengjmuEQ1xG0U7bkYkPTU0YTGAbKtDJCd-jHczs_6BJnewPM19w8A8UWyXunlYUsronAj0RV-dpMWmwx-zSijEJHUTkc8yXBP7hoPA40bQpQdkmib9SYBASRvgtg06N8GtGHqPprt5cvj7S-5ADIZyQZXF0OYqocl41wpqFA0eGjSM2epTXKY1xrqzXHh_35hleLmJ-StSROBKkEzgcVilSuc4L41YNDpkW6iwBoc8CZFEQXMW2T1laybb_8_xZDuMppomJB8Iymt1FjtTQd6pdPf4uFvgFZOHfXBZYhqEa2O7L1bKrkaq5aLUYZjVuTcj-PDfaLk_6X1oMd0D7ZNSDiKUVVk4fSS-4FetleUcuO9A4Kr2OJoDW5CodfVkaXg89V5VgBYci-SGE5mJ2uEYBUdvMODbAIcqGc3VxO3YorIm7i1tiJ-NqXmrkV0mmNGzvo5ZBOXoxyyNKVgcWoaMefdWPKCAYBTnQBXOmEgFYWg3PJo7D1Ta2U68_pk3BymtZ8CuQBau48Fj4CJ4ycrsVQqmP2q3s-Ikidhrt6vLhRRd01cOTKBkop9uzA_QSp0w_2F45JSnsVdorBkSOKBaPaRJE5zIWLiGGB2gd7vOgofOp1tMYrgZSCv2HGmq1iL1C7QZ89dNZzhMEhmqEEpy7rQQs35Ju4VKV-zoAjmJJbHb-ZlfPMwdA96NgdJnfERdY14\"/>\n",
      "     <input name=\"r\" type=\"hidden\" value=\"jxjDtdpEwg3OSKKwO6GPQS9csBRlt.v2a.PZqm6B3ug-1671164099-0-AUXzAcKZHo0rFvmJLc/V1ZqO8OiM0RP822GOKCPmYVKxLfoHLPQZ7qP8mF7A2lFaBCIVD4G92+lEYgXYN8BI8Xo00Hoe1jNUPSboF0LftWnn+IFi4BPqgnLW9npeMngrbZHUAL9VlMOP8RCbmos/TrD0I0+yFJXsXH1Yh8fuQHbcGaAhh9sjeVZtuiBmZNcstafiVlWAjQfHq3iEIu+sUjlqo0R7gVFz71HfvJhl7kOwBDMkizwIQH8bkjWpZ0R4N7yFuZWs8YlH401trA1HXGTmLa9505epq4q9rkei0I0+FCOceEADy3ZbL9GBay2i4unSp2vGzRocnWFOENSFIyQfawacSbwhunfhLEKQMq58xbzmBYbgaRPGCgUeR7tD4tdu0ek5XaWlmwlv8fuflYlb0cBT8f9NwOksM4WHFCf67MYUAriKsm7C6iIvaHKPm5vr5PB90sifqLZKEX9fpp0sydnsyvNXEiFmPTGbQJYt+/VPaafwZG50C5OQYwZBhBpskyBZUIMNa5NQikgSxfrn3Im79m1de0yU/lZu17sa6NeXo0eJjHM+DiFZn3ayi/sKXd/LSAJJB8k99wmToBJ9wClXDn5NitCAFSh/iZclx+BAE7++AE35gzqYgGP03vQSA8Ww+o4q80bnGKtM9L1QhuG1hSjO6DU21/kyw0bAmwuWgyN9vcbzyri+CcU2r/LbspAIP3UvKTWb3+9ZnF12Kp0KsqTDmidbdBaTIDHx5D0seJ9IpYLi0eSnFFnIwP5cdTBDATRJJ6m3waOhcJ3lKwlEArBoas3ou5h1TAUf9HQj5kstO7q52/sBeJJpoCn6B+koC7Eqc5TygJN0YWmCEKQlrcaNJU2yYvkMqt2e31Ey+baM0V+qdFtuWuDK/0zEuf7xTvVsUoKu+gwUMU9pQFERR2puLDvAU0qdwUe8eF4cbc+BdDHEFulJe68+a4Qv+H+Ph/BdqzmzCPavn6VhE5s94J7LFYWRAllxKfVCgi3apPvZDiLD7KvGY5I2ng+28NzStRKeUjsTU+qdAeGPKJ4moRroxr4/KgA/ppMBUmfghC7duooAyoG9PwYtnzj2UzAUp5jVHeaIl7lgtbYEaP0lQA0juCxYBCQvb2uBOri0CZPnqTL6c07bYs9O6wEvJskhcJMVAlooxb74kMUvMkyCC1v04H2RLVA+yHr+i/V4V7QK3DncPYIRVjzSEJSrgoMKgrjyQO0AK4Z73mS/HDLVmuZ4KTis9sID3kDBQgtVzPspm/aUymfX+Hy5i7SgSmj9uk6LugaBhMRKTeMZx02svDJzbPT0D2VQrPanNrBZFapKJF9tSwy0IZ6qJJfPM7th5082t94tr9oqEdEJpcGmD/JzT7twCSUysdrAjtGaxUzypuUERDVk3C74QpeWoxquNxkJSNeyHo013phYyGNt4iB66FbFXreCikAyEOqUk+ZPtSNuMKsqVRhCMuh5zJUlmn6CWKtZ2bXNHV7/r4fL0ICrn0NdH1Yf7PRGDlBS3jQGlFlPA3dp83M1GXsJRpUwd6xq9hCQ1AMbDc0HUXVjH7C5YXRmb2y9XJ4MqMQFlzHAuc1BaltzwlFXmjSPqLvOx94WGBmNXAU614zhbVaSBs/rzntss3DhWhIivctuTwPnWcug4/NwAvTduIH5kgkPBKHOv65c9LGxAXjEcI0LPaGCXe+Gkwy7W1Tboo8TKoiDJIBOSONkwU55j5DElH3EAwuTO3JG+qiQeZaeBWoJlwjgc3eQ7jBgi6AOtuoIDWtGgymeQJBt/8BG9VIQmBR+YVQNhFdLzmNEW2dGilSVZRwuEcAxWYO903eoDFGf8NUi/cYhSdhI989BkGOrD35I6/hsv00NefT3ZJfYeO/RoADVbqjKVdJXwVMdvpRBwCTLDG/0GlFNy3iPng==\"/>\n",
      "    </form>\n",
      "   </div>\n",
      "  </div>\n",
      "  <script>\n",
      "   (function(){\n",
      "        window._cf_chl_opt={\n",
      "            cvId: '2',\n",
      "            cType: 'managed',\n",
      "            cNounce: '44',\n",
      "            cRay: '77a49863cb5316d1',\n",
      "            cHash: '18c8e5df7a1700f',\n",
      "            cUPMDTk: \"\\/jobs?q=Data+Scientist&l=Sugar+Land%2C+TX&from=searchOnHP&vjk=e5d64236cc24a641&__cf_chl_tk=YqbYv0tvWn1U9BfsnPy2fxEZVCjlmQyC7TROn6Ld.Zg-1671164099-0-gaNycGzNB70\",\n",
      "            cFPWv: 'g',\n",
      "            cTTimeMs: '1000',\n",
      "            cTplV: 4,\n",
      "            cTplB: 'cf',\n",
      "            cRq: {\n",
      "                ru: 'aHR0cHM6Ly93d3cuaW5kZWVkLmNvbS9qb2JzP3E9RGF0YStTY2llbnRpc3QmbD1TdWdhcitMYW5kJTJDK1RYJmZyb209c2VhcmNoT25IUCZ2ams9ZTVkNjQyMzZjYzI0YTY0MQ==',\n",
      "                ra: 'TW96aWxsYS81LjAgKFdpbmRvd3MgTlQgMTAuMDsgV09XNjQpIEFwcGxlV2ViS2l0LzUzNy4zNiAoS0hUTUwsIGxpa2UgR2Vja28pIENocm9tZS83OS4wLjM5NDUuODggU2FmYXJpLzUzNy4zNw==',\n",
      "                rm: 'R0VU',\n",
      "                d: '2jGaYZ6MA6C16LT70ffcBN5FCb/BunntRWcYAWfWElyKNRLKch54dauWlZIShsNxG6A79xd8tjeumF5LkJ+TNVJ/i+gYEIUuCt3wHLAFrL7sPmNRu6jhJQHuMdrbQI5yix0AQf8kVFPymEYVDlPzHzt0B17QDRqyK9flA1OCPVYgT2CidY7RKcfaGkZAt8tapu0wyiXoxbsaLB9DQPHYi6ioCQ3/zwFhsQWLD0rE5PtIy4sq8ce6rFTGA/po/bbspNaDVLfwtuGvyXzhFwvUjfFZKBWilftInsNByxFn6L3noyWb8KLvdI0rDYcnQxCeBxoLXBOKubLzM49ulNwaYU7FuPuRGCeOycecAuPubuM1PwI7XI/jCaA40FaAs3/EdOhzCjtWquBgjlvchiYG4Mmli/JYzY8YfXvOGWrqASgPbK+407YkwfdY9AQMiuwqcnIxlCWTEGkEp2DQaS1TZnfj5kR0JGX+Q9+jjkCKh7q/EXlegwhD4DT3wJcytyxkxaMM9OISzuES974T+dpg27K5WkNA+0R1WM7gRTRZCVvtHCYuH8F5BTLGcDR641BonG67yWN4NyU1GkvPWXnhJkkuOsUcGBfN8FcZu5f2AkOemv1q6HjGgBTUD1XMfbV0PE3WBHhNGGkrimxYORlINg==',\n",
      "                t: 'MTY3MTE2NDA5OS4xNjkwMDA=',\n",
      "                m: 'UCGR0EnNaHcE8Om3hmMveV62XG7ibOT1VdxfHazcz2c=',\n",
      "                i1: 'n5TccFfhOqiK6QCBolnTJg==',\n",
      "                i2: 'sGe0ph32yWN4n2C9QaZupw==',\n",
      "                zh: '2kfjrLYfAVNem19Lin3oP+VKo7ladb55se1eVtiLLnQ=',\n",
      "                uh: 'AlRKkTUE2mFuIQgT+YQwCvonfWlPez0DX7k/TRzfU3A=',\n",
      "                hh: 'kscNdiThTx/CcYpUiV7EP4v/VgPxIHsoBIQQ6Rdzvmg=',\n",
      "            }\n",
      "        };\n",
      "        var trkjs = document.createElement('img');\n",
      "        trkjs.setAttribute('src', '/cdn-cgi/images/trace/managed/js/transparent.gif?ray=77a49863cb5316d1');\n",
      "        trkjs.setAttribute('style', 'display: none');\n",
      "        document.body.appendChild(trkjs);\n",
      "        var cpo = document.createElement('script');\n",
      "        cpo.src = '/cdn-cgi/challenge-platform/h/g/orchestrate/managed/v1?ray=77a49863cb5316d1';\n",
      "        window._cf_chl_opt.cOgUHash = location.hash === '' && location.href.indexOf('#') !== -1 ? '#' : location.hash;\n",
      "        window._cf_chl_opt.cOgUQuery = location.search === '' && location.href.slice(0, -window._cf_chl_opt.cOgUHash.length).indexOf('?') !== -1 ? '?' : location.search;\n",
      "        if (window.history && window.history.replaceState) {\n",
      "            var ogU = location.pathname + window._cf_chl_opt.cOgUQuery + window._cf_chl_opt.cOgUHash;\n",
      "            history.replaceState(null, null, \"\\/jobs?q=Data+Scientist&l=Sugar+Land%2C+TX&from=searchOnHP&vjk=e5d64236cc24a641&__cf_chl_rt_tk=YqbYv0tvWn1U9BfsnPy2fxEZVCjlmQyC7TROn6Ld.Zg-1671164099-0-gaNycGzNB70\" + window._cf_chl_opt.cOgUHash);\n",
      "            cpo.onload = function() {\n",
      "                history.replaceState(null, null, ogU);\n",
      "            };\n",
      "        }\n",
      "        document.getElementsByTagName('head')[0].appendChild(cpo);\n",
      "    }());\n",
      "  </script>\n",
      "  <div class=\"footer\" role=\"contentinfo\">\n",
      "   <div class=\"footer-inner\">\n",
      "    <div class=\"clearfix diagnostic-wrapper\">\n",
      "     <div class=\"ray-id\">\n",
      "      Ray ID:\n",
      "      <code>\n",
      "       77a49863cb5316d1\n",
      "      </code>\n",
      "     </div>\n",
      "    </div>\n",
      "    <div class=\"text-center\">\n",
      "     Performance &amp; security by\n",
      "     <a href=\"https://www.cloudflare.com?utm_source=challenge&amp;utm_campaign=m\" rel=\"noopener noreferrer\" target=\"_blank\">\n",
      "      Cloudflare\n",
      "     </a>\n",
      "    </div>\n",
      "   </div>\n",
      "  </div>\n",
      " </body>\n",
      "</html>\n",
      "\n"
     ]
    }
   ],
   "source": [
    "soup = bs4.BeautifulSoup(res2.content, 'lxml')\n",
    "print(soup.prettify())  "
   ]
  },
  {
   "cell_type": "code",
   "execution_count": 16,
   "id": "f2976519",
   "metadata": {},
   "outputs": [],
   "source": [
    "# alternative way\n",
    "# soup2 = bs4.BeautifulSoup(res.text,\"html.parser\")\n",
    "# soup2"
   ]
  },
  {
   "cell_type": "code",
   "execution_count": null,
   "id": "d5c85ef6",
   "metadata": {
    "scrolled": false
   },
   "outputs": [],
   "source": []
  },
  {
   "cell_type": "code",
   "execution_count": 17,
   "id": "237e6da0",
   "metadata": {},
   "outputs": [
    {
     "ename": "AttributeError",
     "evalue": "'NoneType' object has no attribute 'h2'",
     "output_type": "error",
     "traceback": [
      "\u001b[1;31m---------------------------------------------------------------------------\u001b[0m",
      "\u001b[1;31mAttributeError\u001b[0m                            Traceback (most recent call last)",
      "Cell \u001b[1;32mIn[17], line 2\u001b[0m\n\u001b[0;32m      1\u001b[0m jobs \u001b[38;5;241m=\u001b[39m soup\u001b[38;5;241m.\u001b[39mfind(\u001b[38;5;124m'\u001b[39m\u001b[38;5;124mli\u001b[39m\u001b[38;5;124m'\u001b[39m, class_\u001b[38;5;241m=\u001b[39m\u001b[38;5;124m'\u001b[39m\u001b[38;5;124mjob_seen_beacon\u001b[39m\u001b[38;5;124m'\u001b[39m)\n\u001b[1;32m----> 2\u001b[0m \u001b[38;5;28mprint\u001b[39m(\u001b[43mjobs\u001b[49m\u001b[38;5;241;43m.\u001b[39;49m\u001b[43mh2\u001b[49m)\n",
      "\u001b[1;31mAttributeError\u001b[0m: 'NoneType' object has no attribute 'h2'"
     ]
    }
   ],
   "source": [
    "jobs = soup.find('li', class_='job_seen_beacon')\n",
    "print(jobs.h2)"
   ]
  },
  {
   "cell_type": "code",
   "execution_count": null,
   "id": "4055c4ca",
   "metadata": {},
   "outputs": [],
   "source": []
  },
  {
   "cell_type": "code",
   "execution_count": null,
   "id": "8a5b71ac",
   "metadata": {},
   "outputs": [],
   "source": [
    "# from urllib.request import urlopen\n",
    "# html = urlopen(driver.current_url)    doesn't work, returns \"HTTP Error 403: Forbidden\", requests.get is preferable"
   ]
  },
  {
   "cell_type": "code",
   "execution_count": null,
   "id": "26520655",
   "metadata": {},
   "outputs": [],
   "source": [
    "# updated your code to send a user-agent along with the request\n",
    "# also suggest adding a delay/sleep between requests, 30-45 seconds is a good amount"
   ]
  }
 ],
 "metadata": {
  "kernelspec": {
   "display_name": "Python 3 (ipykernel)",
   "language": "python",
   "name": "python3"
  },
  "language_info": {
   "codemirror_mode": {
    "name": "ipython",
    "version": 3
   },
   "file_extension": ".py",
   "mimetype": "text/x-python",
   "name": "python",
   "nbconvert_exporter": "python",
   "pygments_lexer": "ipython3",
   "version": "3.9.12"
  }
 },
 "nbformat": 4,
 "nbformat_minor": 5
}
